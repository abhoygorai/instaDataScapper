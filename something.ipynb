{
 "cells": [
  {
   "cell_type": "code",
   "execution_count": 12,
   "metadata": {},
   "outputs": [],
   "source": [
    "from utils import scrape_username, scrape_general_info, get_influencer_link, get_information, getPostCount\n",
    "import utils\n",
    "import os\n",
    "import platform\n",
    "import time\n",
    "import urllib.request\n",
    "import openpyxl\n",
    "import operator\n",
    "import math\n",
    "from selenium import webdriver\n",
    "from selenium.webdriver.common.keys import Keys\n",
    "from selenium.webdriver.common.action_chains import ActionChains\n",
    "from openpyxl import Workbook\n",
    "import sys\n",
    "import requests\n",
    "import re\n",
    "import json\n",
    "from selenium.webdriver.common.keys import Keys\n",
    "from bs4 import BeautifulSoup\n",
    "\n",
    "import pandas as pd\n",
    "import numpy as np\n",
    "\n",
    "import warnings\n",
    "warnings.filterwarnings('ignore')\n"
   ]
  },
  {
   "cell_type": "code",
   "execution_count": null,
   "metadata": {},
   "outputs": [],
   "source": []
  },
  {
   "cell_type": "code",
   "execution_count": null,
   "metadata": {},
   "outputs": [],
   "source": [
    "# This is for the followers, following and post data\n",
    "from data import id_list\n",
    "i = 1\n",
    "details = []\n",
    "for name in id_list:\n",
    "    # user name\n",
    "    url = f\"https://www.instagram.com/{name}/\"\n",
    "\n",
    "    # calling scrape function\n",
    "    try:\n",
    "        data = scrape_general_info(url)\n",
    "        temp_list = [i, name, data[\"Followers\"], data[\"Following\"], data[\"Posts\"]]\n",
    "        print(temp_list)\n",
    "        details.append(temp_list)\n",
    "        i += 1\n",
    "    except:\n",
    "        i += 1\n",
    "        continue\n",
    "\n",
    "# print(\"The list is\", details)\n",
    "\n",
    "import csv\n",
    "\n",
    "header = ['no', 'id', 'followers', 'following', 'post']\n",
    "\n",
    "\n",
    "with open('details1.csv', 'w', encoding='UTF8') as f:\n",
    "    writer = csv.writer(f)\n",
    "    writer.writerow(header)\n",
    "\n",
    "    for li in details:\n",
    "       writer.writerow(li)\n",
    "\n",
    "\n",
    "print(\"csv created\")"
   ]
  },
  {
   "cell_type": "code",
   "execution_count": 21,
   "metadata": {},
   "outputs": [
    {
     "ename": "NoSuchWindowException",
     "evalue": "Message: no such window: target window already closed\nfrom unknown error: web view not found\n  (Session info: MicrosoftEdge=109.0.1518.70)\nStacktrace:\nBacktrace:\n\tMicrosoft::Applications::Events::EventProperties::SetProperty [0x00007FF76AFC1672+15186]\n\tMicrosoft::Applications::Events::EventProperty::EventProperty [0x00007FF76AF5A1C2+827458]\n\t(No symbol) [0x00007FF76AC1ED90]\n\t(No symbol) [0x00007FF76ABF7ED4]\n\t(No symbol) [0x00007FF76AC85E5D]\n\t(No symbol) [0x00007FF76AC9ABF7]\n\t(No symbol) [0x00007FF76AC81D23]\n\t(No symbol) [0x00007FF76AC53B80]\n\t(No symbol) [0x00007FF76AC52B0E]\n\t(No symbol) [0x00007FF76AC54344]\n\tMicrosoft::Applications::Events::EventProperties::SetProperty [0x00007FF76AE3C3C0+182768]\n\t(No symbol) [0x00007FF76AD10095]\n\tMicrosoft::Applications::Events::EventProperty::EventProperty [0x00007FF76AE9A6FA+42362]\n\tMicrosoft::Applications::Events::EventProperty::EventProperty [0x00007FF76AE9D435+53941]\n\tMicrosoft::Applications::Events::ILogManager::DispatchEventBroadcast [0x00007FF76B1B8A63+1456595]\n\tMicrosoft::Applications::Events::EventProperty::EventProperty [0x00007FF76AF6271A+861594]\n\tMicrosoft::Applications::Events::EventProperty::EventProperty [0x00007FF76AF67804+882308]\n\tMicrosoft::Applications::Events::EventProperty::EventProperty [0x00007FF76AF6795C+882652]\n\tMicrosoft::Applications::Events::EventProperty::EventProperty [0x00007FF76AF7092E+919470]\n\tBaseThreadInitThunk [0x00007FFFCCED26BD+29]\n\tRtlUserThreadStart [0x00007FFFCDDADFB8+40]\n",
     "output_type": "error",
     "traceback": [
      "\u001b[1;31m---------------------------------------------------------------------------\u001b[0m",
      "\u001b[1;31mNoSuchWindowException\u001b[0m                     Traceback (most recent call last)",
      "Cell \u001b[1;32mIn[21], line 18\u001b[0m\n\u001b[0;32m     16\u001b[0m count \u001b[39m=\u001b[39m getPostCount(name)\n\u001b[0;32m     17\u001b[0m \u001b[39mwhile\u001b[39;00m i \u001b[39m<\u001b[39m math\u001b[39m.\u001b[39mfloor(\u001b[39mint\u001b[39m(count) \u001b[39m/\u001b[39m \u001b[39m12\u001b[39m):\n\u001b[1;32m---> 18\u001b[0m     driver\u001b[39m.\u001b[39;49mexecute_script(\u001b[39m\"\u001b[39;49m\u001b[39mwindow.scrollTo(0, document.body.scrollHeight);\u001b[39;49m\u001b[39m\"\u001b[39;49m)\n\u001b[0;32m     19\u001b[0m     time\u001b[39m.\u001b[39msleep(\u001b[39m3\u001b[39m)\n\u001b[0;32m     20\u001b[0m     i \u001b[39m=\u001b[39m i\u001b[39m+\u001b[39m\u001b[39m1\u001b[39m\n",
      "File \u001b[1;32mc:\\Users\\abhoy\\AppData\\Local\\Programs\\Python\\Python311\\Lib\\site-packages\\selenium\\webdriver\\remote\\webdriver.py:500\u001b[0m, in \u001b[0;36mWebDriver.execute_script\u001b[1;34m(self, script, *args)\u001b[0m\n\u001b[0;32m    497\u001b[0m converted_args \u001b[39m=\u001b[39m \u001b[39mlist\u001b[39m(args)\n\u001b[0;32m    498\u001b[0m command \u001b[39m=\u001b[39m Command\u001b[39m.\u001b[39mW3C_EXECUTE_SCRIPT\n\u001b[1;32m--> 500\u001b[0m \u001b[39mreturn\u001b[39;00m \u001b[39mself\u001b[39;49m\u001b[39m.\u001b[39;49mexecute(command, {\u001b[39m\"\u001b[39;49m\u001b[39mscript\u001b[39;49m\u001b[39m\"\u001b[39;49m: script, \u001b[39m\"\u001b[39;49m\u001b[39margs\u001b[39;49m\u001b[39m\"\u001b[39;49m: converted_args})[\u001b[39m\"\u001b[39m\u001b[39mvalue\u001b[39m\u001b[39m\"\u001b[39m]\n",
      "File \u001b[1;32mc:\\Users\\abhoy\\AppData\\Local\\Programs\\Python\\Python311\\Lib\\site-packages\\selenium\\webdriver\\remote\\webdriver.py:440\u001b[0m, in \u001b[0;36mWebDriver.execute\u001b[1;34m(self, driver_command, params)\u001b[0m\n\u001b[0;32m    438\u001b[0m response \u001b[39m=\u001b[39m \u001b[39mself\u001b[39m\u001b[39m.\u001b[39mcommand_executor\u001b[39m.\u001b[39mexecute(driver_command, params)\n\u001b[0;32m    439\u001b[0m \u001b[39mif\u001b[39;00m response:\n\u001b[1;32m--> 440\u001b[0m     \u001b[39mself\u001b[39;49m\u001b[39m.\u001b[39;49merror_handler\u001b[39m.\u001b[39;49mcheck_response(response)\n\u001b[0;32m    441\u001b[0m     response[\u001b[39m\"\u001b[39m\u001b[39mvalue\u001b[39m\u001b[39m\"\u001b[39m] \u001b[39m=\u001b[39m \u001b[39mself\u001b[39m\u001b[39m.\u001b[39m_unwrap_value(response\u001b[39m.\u001b[39mget(\u001b[39m\"\u001b[39m\u001b[39mvalue\u001b[39m\u001b[39m\"\u001b[39m, \u001b[39mNone\u001b[39;00m))\n\u001b[0;32m    442\u001b[0m     \u001b[39mreturn\u001b[39;00m response\n",
      "File \u001b[1;32mc:\\Users\\abhoy\\AppData\\Local\\Programs\\Python\\Python311\\Lib\\site-packages\\selenium\\webdriver\\remote\\errorhandler.py:245\u001b[0m, in \u001b[0;36mErrorHandler.check_response\u001b[1;34m(self, response)\u001b[0m\n\u001b[0;32m    243\u001b[0m         alert_text \u001b[39m=\u001b[39m value[\u001b[39m\"\u001b[39m\u001b[39malert\u001b[39m\u001b[39m\"\u001b[39m]\u001b[39m.\u001b[39mget(\u001b[39m\"\u001b[39m\u001b[39mtext\u001b[39m\u001b[39m\"\u001b[39m)\n\u001b[0;32m    244\u001b[0m     \u001b[39mraise\u001b[39;00m exception_class(message, screen, stacktrace, alert_text)  \u001b[39m# type: ignore[call-arg]  # mypy is not smart enough here\u001b[39;00m\n\u001b[1;32m--> 245\u001b[0m \u001b[39mraise\u001b[39;00m exception_class(message, screen, stacktrace)\n",
      "\u001b[1;31mNoSuchWindowException\u001b[0m: Message: no such window: target window already closed\nfrom unknown error: web view not found\n  (Session info: MicrosoftEdge=109.0.1518.70)\nStacktrace:\nBacktrace:\n\tMicrosoft::Applications::Events::EventProperties::SetProperty [0x00007FF76AFC1672+15186]\n\tMicrosoft::Applications::Events::EventProperty::EventProperty [0x00007FF76AF5A1C2+827458]\n\t(No symbol) [0x00007FF76AC1ED90]\n\t(No symbol) [0x00007FF76ABF7ED4]\n\t(No symbol) [0x00007FF76AC85E5D]\n\t(No symbol) [0x00007FF76AC9ABF7]\n\t(No symbol) [0x00007FF76AC81D23]\n\t(No symbol) [0x00007FF76AC53B80]\n\t(No symbol) [0x00007FF76AC52B0E]\n\t(No symbol) [0x00007FF76AC54344]\n\tMicrosoft::Applications::Events::EventProperties::SetProperty [0x00007FF76AE3C3C0+182768]\n\t(No symbol) [0x00007FF76AD10095]\n\tMicrosoft::Applications::Events::EventProperty::EventProperty [0x00007FF76AE9A6FA+42362]\n\tMicrosoft::Applications::Events::EventProperty::EventProperty [0x00007FF76AE9D435+53941]\n\tMicrosoft::Applications::Events::ILogManager::DispatchEventBroadcast [0x00007FF76B1B8A63+1456595]\n\tMicrosoft::Applications::Events::EventProperty::EventProperty [0x00007FF76AF6271A+861594]\n\tMicrosoft::Applications::Events::EventProperty::EventProperty [0x00007FF76AF67804+882308]\n\tMicrosoft::Applications::Events::EventProperty::EventProperty [0x00007FF76AF6795C+882652]\n\tMicrosoft::Applications::Events::EventProperty::EventProperty [0x00007FF76AF7092E+919470]\n\tBaseThreadInitThunk [0x00007FFFCCED26BD+29]\n\tRtlUserThreadStart [0x00007FFFCDDADFB8+40]\n"
     ]
    }
   ],
   "source": [
    "from selenium.webdriver.common.by import By\n",
    "link = []\n",
    "names = []\n",
    "with open('links1.csv', 'w', encoding='UTF8') as f:\n",
    "        writer = csv.writer(f)\n",
    "        writer.writerow(header)\n",
    "for name in id_list:\n",
    "    url = f'https://www.instagram.com/{name}/'\n",
    "    options = webdriver.EdgeOptions()\n",
    "    driver = webdriver.Edge(options=options)\n",
    "    driver.get(url)\n",
    "\n",
    "    time.sleep(5)\n",
    "\n",
    "    i=0\n",
    "    count = getPostCount(name)\n",
    "    while i < math.floor(int(count) / 12):\n",
    "        driver.execute_script(\"window.scrollTo(0, document.body.scrollHeight);\")\n",
    "        time.sleep(3)\n",
    "        i = i+1\n",
    "\n",
    "    i = 0\n",
    "    while i < 1:\n",
    "        pages = driver.find_elements(By.TAG_NAME, 'a')\n",
    "            # print(pages)\n",
    "        for data in pages:\n",
    "            data_2 = data.get_attribute(\"href\")\n",
    "            if '/p/' in data_2:\n",
    "                # print(data.get_attribute(\"href\"))\n",
    "                temp_list2 = [name, data.get_attribute(\"href\")]\n",
    "                link.append(temp_list2)\n",
    "        i += 1\n",
    "\n",
    "    header = ['id', 'links']\n",
    "\n",
    "    \n",
    "    with open('links1.csv', 'w', encoding='UTF8') as f:\n",
    "        writer = csv.writer(f)\n",
    "        for li in link:\n",
    "            writer.writerow(li)\n",
    "    \n",
    "    link.clear()\n",
    "\n",
    "driver.quit()\n",
    "print(link)\n"
   ]
  },
  {
   "cell_type": "code",
   "execution_count": 4,
   "metadata": {},
   "outputs": [],
   "source": [
    "\n",
    "from selenium.webdriver.common.by import By\n",
    "url = f'https://www.youtube.com/'\n",
    "options = webdriver.EdgeOptions()\n",
    "driver = webdriver.Edge(options=options)\n",
    "driver.get(url)"
   ]
  }
 ],
 "metadata": {
  "kernelspec": {
   "display_name": "Python 3",
   "language": "python",
   "name": "python3"
  },
  "language_info": {
   "codemirror_mode": {
    "name": "ipython",
    "version": 3
   },
   "file_extension": ".py",
   "mimetype": "text/x-python",
   "name": "python",
   "nbconvert_exporter": "python",
   "pygments_lexer": "ipython3",
   "version": "3.11.1"
  },
  "orig_nbformat": 4,
  "vscode": {
   "interpreter": {
    "hash": "a080e90c9cd6109fbb36cc4b8fe7ffb393260804bd684b1a331b5b883b6b9c09"
   }
  }
 },
 "nbformat": 4,
 "nbformat_minor": 2
}
