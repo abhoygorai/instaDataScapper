{
 "cells": [
  {
   "cell_type": "code",
   "execution_count": 1,
   "metadata": {},
   "outputs": [],
   "source": [
    "from data import id_list\n",
    "from utils import scrape_username, scrape_general_info, get_influencer_link, get_information, getPostCount\n",
    "import utils\n",
    "import os\n",
    "import platform\n",
    "import time\n",
    "import urllib.request\n",
    "import openpyxl\n",
    "import operator\n",
    "import math\n",
    "from selenium import webdriver\n",
    "from selenium.webdriver.common.keys import Keys\n",
    "from selenium.webdriver.common.action_chains import ActionChains\n",
    "from openpyxl import Workbook\n",
    "import sys\n",
    "import requests\n",
    "import re\n",
    "import json\n",
    "from selenium.webdriver.common.keys import Keys\n",
    "from bs4 import BeautifulSoup\n",
    "\n",
    "import pandas as pd\n",
    "import numpy as np\n",
    "\n",
    "import warnings\n",
    "warnings.filterwarnings('ignore')\n"
   ]
  },
  {
   "cell_type": "code",
   "execution_count": null,
   "metadata": {},
   "outputs": [],
   "source": [
    "# This is for the followers, following and post data\n",
    "\n",
    "i = 1\n",
    "details = []\n",
    "for name in id_list:\n",
    "    # user name\n",
    "    url = f\"https://www.instagram.com/{name}/\"\n",
    "\n",
    "    # calling scrape function\n",
    "    try:\n",
    "        data = scrape_general_info(url)\n",
    "        temp_list = [i, name, data[\"Followers\"], data[\"Following\"], data[\"Posts\"]]\n",
    "        # print(temp_list)\n",
    "        details.append(temp_list)\n",
    "        i += 1\n",
    "    except:\n",
    "        i += 1\n",
    "        continue\n",
    "\n",
    "# print(\"The list is\", details)\n",
    "\n",
    "import csv\n",
    "\n",
    "header = ['no', 'id', 'followers', 'following', 'post']\n",
    "\n",
    "\n",
    "with open('details1.csv', 'w', encoding='UTF8') as f:\n",
    "    writer = csv.writer(f)\n",
    "    writer.writerow(header)\n",
    "\n",
    "    for li in details:\n",
    "       writer.writerow(li)\n",
    "\n",
    "\n",
    "print(\"csv created\")"
   ]
  },
  {
   "cell_type": "code",
   "execution_count": 8,
   "metadata": {},
   "outputs": [
    {
     "name": "stdout",
     "output_type": "stream",
     "text": [
      "https://www.instagram.com/p/ClsqUAPy9KJ/\n",
      "https://www.instagram.com/p/CiAW5q-Bpv2/\n",
      "https://www.instagram.com/p/CjBDgeohsGE/\n",
      "https://www.instagram.com/p/CnhOlRzDfm0/\n",
      "https://www.instagram.com/p/CnfF_F1S79o/\n",
      "https://www.instagram.com/p/CnbZTp3I0XB/\n",
      "https://www.instagram.com/p/CmUQHvLI3vF/\n",
      "https://www.instagram.com/p/ClTojAlSgmo/\n",
      "https://www.instagram.com/p/ClLNTYBjXGM/\n",
      "https://www.instagram.com/p/Ck6DnjbIfBI/\n",
      "https://www.instagram.com/p/CkniDUnyCwW/\n",
      "https://www.instagram.com/p/CkKoXPpy7Lv/\n"
     ]
    }
   ],
   "source": [
    "from selenium.webdriver.common.by import By\n",
    "PROXY = \"137.59.84.58\"\n",
    "link = []\n",
    "names = []\n",
    "\n",
    "url = f'https://www.instagram.com/abhoygorai/'\n",
    "options = webdriver.EdgeOptions()\n",
    "# options.add_argument('--proxy-server=%s' % PROXY)\n",
    "driver = webdriver.Edge(options=options)\n",
    "driver.get(url)\n",
    "\n",
    "time.sleep(5)\n",
    "\n",
    "i=0\n",
    "# count = getPostCount(\"abhoygorai\")\n",
    "while i < 3:\n",
    "    driver.execute_script(\"window.scrollTo(0, document.body.scrollHeight);\")\n",
    "    time.sleep(3)\n",
    "    i = i+1\n",
    "\n",
    "i = 0\n",
    "while i < 1:\n",
    "    pages = driver.find_elements(By.TAG_NAME, 'a')\n",
    "        # print(pages)\n",
    "    for data in pages:\n",
    "        data_2 = data.get_attribute(\"href\")\n",
    "        if '/p/' in data_2:\n",
    "            print(data.get_attribute(\"href\"))\n",
    "            link.append(data.get_attribute(\"href\"))\n",
    "            # names.append(username)\n",
    "            # Scroll down to bottom\n",
    "\n",
    "            # Wait to load page\n",
    "    i += 1\n",
    "\n",
    "driver.quit()\n",
    "# print(link)\n"
   ]
  },
  {
   "cell_type": "code",
   "execution_count": 4,
   "metadata": {},
   "outputs": [],
   "source": [
    "\n",
    "from selenium.webdriver.common.by import By\n",
    "url = f'https://www.youtube.com/'\n",
    "options = webdriver.EdgeOptions()\n",
    "driver = webdriver.Edge(options=options)\n",
    "driver.get(url)"
   ]
  }
 ],
 "metadata": {
  "kernelspec": {
   "display_name": "Python 3",
   "language": "python",
   "name": "python3"
  },
  "language_info": {
   "codemirror_mode": {
    "name": "ipython",
    "version": 3
   },
   "file_extension": ".py",
   "mimetype": "text/x-python",
   "name": "python",
   "nbconvert_exporter": "python",
   "pygments_lexer": "ipython3",
   "version": "3.11.1"
  },
  "orig_nbformat": 4,
  "vscode": {
   "interpreter": {
    "hash": "a080e90c9cd6109fbb36cc4b8fe7ffb393260804bd684b1a331b5b883b6b9c09"
   }
  }
 },
 "nbformat": 4,
 "nbformat_minor": 2
}
