{
 "cells": [
  {
   "cell_type": "code",
   "execution_count": 5,
   "metadata": {},
   "outputs": [],
   "source": [
    "from data import id_list\n",
    "from utils import scrape_username, scrape_general_info, get_influencer_link, get_information\n",
    "import utils\n",
    "import os\n",
    "import platform\n",
    "import time\n",
    "import urllib.request\n",
    "import openpyxl\n",
    "import operator\n",
    "from selenium import webdriver\n",
    "from selenium.webdriver.common.keys import Keys\n",
    "from selenium.webdriver.common.action_chains import ActionChains\n",
    "from openpyxl import Workbook\n",
    "import sys\n",
    "import requests\n",
    "import re\n",
    "import json\n",
    "from selenium.webdriver.common.keys import Keys\n",
    "from bs4 import BeautifulSoup\n",
    "\n",
    "import pandas as pd\n",
    "import numpy as np\n",
    "\n",
    "import warnings\n",
    "warnings.filterwarnings('ignore')\n"
   ]
  },
  {
   "cell_type": "code",
   "execution_count": null,
   "metadata": {},
   "outputs": [],
   "source": [
    "i = 1\n",
    "details = []\n",
    "for name in id_list:\n",
    "    # user name\n",
    "    url = f\"https://www.instagram.com/{name}/\"\n",
    "\n",
    "    # calling scrape function\n",
    "    try:\n",
    "        data = scrape_general_info(url)\n",
    "        # print(i, name, data[\"Followers\"], data[\"Following\"], data[\"Posts\"])\n",
    "        temp_list = [i, name, data[\"Followers\"], data[\"Following\"], data[\"Posts\"]]\n",
    "        # print(temp_list)\n",
    "        details.append(temp_list)\n",
    "        # df_2.loc[i, 'followers'] = data['Followers']\n",
    "        # df_2.loc[i, 'following'] = data['Following']\n",
    "        # df_2.loc[i, 'post'] = data['Posts']\n",
    "        i += 1\n",
    "    except:\n",
    "        i += 1\n",
    "        continue\n",
    "\n",
    "print(\"The list is\")\n",
    "print(details)"
   ]
  },
  {
   "cell_type": "code",
   "execution_count": 7,
   "metadata": {},
   "outputs": [],
   "source": [
    "import csv\n",
    "\n",
    "header = ['no', 'id', 'followers', 'following', 'post']\n",
    "\n",
    "\n",
    "with open('details1.csv', 'w', encoding='UTF8') as f:\n",
    "    writer = csv.writer(f)\n",
    "    writer.writerow(header)\n",
    "\n",
    "    for li in details:\n",
    "       writer.writerow(li)\n",
    "\n",
    "\n"
   ]
  }
 ],
 "metadata": {
  "kernelspec": {
   "display_name": "Python 3",
   "language": "python",
   "name": "python3"
  },
  "language_info": {
   "codemirror_mode": {
    "name": "ipython",
    "version": 3
   },
   "file_extension": ".py",
   "mimetype": "text/x-python",
   "name": "python",
   "nbconvert_exporter": "python",
   "pygments_lexer": "ipython3",
   "version": "3.11.1"
  },
  "orig_nbformat": 4,
  "vscode": {
   "interpreter": {
    "hash": "a080e90c9cd6109fbb36cc4b8fe7ffb393260804bd684b1a331b5b883b6b9c09"
   }
  }
 },
 "nbformat": 4,
 "nbformat_minor": 2
}
